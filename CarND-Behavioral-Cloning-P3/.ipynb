{
 "cells": [
  {
   "cell_type": "code",
   "execution_count": 1,
   "metadata": {},
   "outputs": [],
   "source": [
    "import tensorflow as tf\n",
    "import numpy as np\n",
    "import matplotlib.pyplot as plt\n",
    "import pandas as pd\n",
    "import matplotlib.image as mpimg\n",
    "%matplotlib inline"
   ]
  },
  {
   "cell_type": "code",
   "execution_count": 2,
   "metadata": {},
   "outputs": [],
   "source": [
    "def readLog(csv_file):\n",
    "    log = pd.read_csv(csv_file, header=None)\n",
    "    for i in range(3):\n",
    "        log.iloc[:,i] = log.iloc[:,i].str.replace('/home/jianjian/Nutstore/Self-Driving/Project4', '..')\n",
    "        \n",
    "    log = np.array(log)\n",
    "    return log\n",
    "\n",
    "log = readLog('../driving_log.csv')"
   ]
  },
  {
   "cell_type": "code",
   "execution_count": 3,
   "metadata": {},
   "outputs": [],
   "source": [
    "def createXY(log):\n",
    "    X_train = []\n",
    "    y_train = []\n",
    "    for ind, file in enumerate(log[:,0]):\n",
    "        X_train.append(mpimg.imread(file))\n",
    "        y_train.append(log[ind, 3])\n",
    "    return np.array(X_train), np.array(y_train)\n",
    "\n",
    "X_all, y_all = createXY(log)"
   ]
  },
  {
   "cell_type": "code",
   "execution_count": 4,
   "metadata": {},
   "outputs": [
    {
     "name": "stderr",
     "output_type": "stream",
     "text": [
      "Using TensorFlow backend.\n"
     ]
    }
   ],
   "source": [
    "X_train, y_train = X_all.astype(np.float32), y_all.astype(np.int32)\n",
    "# X_valid, y_valid = X_all.astype(np.float32), y_all.astype(np.int32)\n",
    "\n",
    "from keras.models import Sequential\n",
    "from keras.layers import Flatten, Dense, BatchNormalization, Dropout, Cropping2D, Lambda, Activation\n",
    "from keras.layers.convolutional import Convolution2D\n",
    "from keras.layers.pooling import MaxPooling2D"
   ]
  },
  {
   "cell_type": "code",
   "execution_count": 5,
   "metadata": {},
   "outputs": [],
   "source": [
    "mean = tf.keras.backend.constant(np.mean(X_train, axis=0))\n",
    "std = tf.keras.backend.constant(np.std(X_train, axis=0))"
   ]
  },
  {
   "cell_type": "code",
   "execution_count": 6,
   "metadata": {},
   "outputs": [
    {
     "data": {
      "text/plain": [
       "(TensorShape([Dimension(160), Dimension(320), Dimension(3)]),\n",
       " TensorShape([Dimension(160), Dimension(320), Dimension(3)]))"
      ]
     },
     "execution_count": 6,
     "metadata": {},
     "output_type": "execute_result"
    }
   ],
   "source": [
    "mean.shape, std.shape"
   ]
  },
  {
   "cell_type": "code",
   "execution_count": 7,
   "metadata": {
    "scrolled": true
   },
   "outputs": [
    {
     "name": "stdout",
     "output_type": "stream",
     "text": [
      "Train on 11419 samples, validate on 2855 samples\n",
      "Epoch 1/3\n",
      "11419/11419 [==============================] - 461s 40ms/step - loss: 0.0407 - val_loss: 0.0068\n",
      "Epoch 2/3\n",
      "11419/11419 [==============================] - 460s 40ms/step - loss: 0.0036 - val_loss: 0.0022\n",
      "Epoch 3/3\n",
      "11419/11419 [==============================] - 431s 38ms/step - loss: 0.0022 - val_loss: 0.0019\n"
     ]
    }
   ],
   "source": [
    "model = Sequential()\n",
    "model.add(Lambda(lambda x: (x-128)/128, input_shape=(160, 320, 3)))\n",
    "model.add(Cropping2D(cropping=((72, 20), (0, 0))))\n",
    "model.add(Convolution2D(24,(5,5),activation=\"relu\"))\n",
    "model.add(BatchNormalization())\n",
    "model.add(MaxPooling2D())\n",
    "model.add(Convolution2D(36,(5,5),activation=\"relu\"))\n",
    "model.add(BatchNormalization())\n",
    "model.add(MaxPooling2D())\n",
    "model.add(Convolution2D(48,(5,5),activation=\"relu\"))\n",
    "model.add(BatchNormalization())\n",
    "model.add(MaxPooling2D())\n",
    "model.add(Convolution2D(64,(3,3),activation=\"relu\"))\n",
    "model.add(BatchNormalization())\n",
    "model.add(Convolution2D(64,(3,3),activation=\"relu\"))\n",
    "model.add(BatchNormalization())\n",
    "\n",
    "model.add(Flatten())\n",
    "model.add(Dense(100))\n",
    "model.add(BatchNormalization())\n",
    "model.add(Activation(\"relu\"))\n",
    "model.add(Dense(50))\n",
    "model.add(BatchNormalization())\n",
    "model.add(Activation(\"relu\"))\n",
    "model.add(Dense(10))\n",
    "model.add(BatchNormalization())\n",
    "model.add(Activation(\"relu\"))\n",
    "model.add(Dense(1, activation=None))\n",
    "\n",
    "model.compile(loss='mse', optimizer='adam')\n",
    "model.fit(X_train, y_train, validation_split=0.2, shuffle=True, epochs=3)\n",
    "\n",
    "model.save('model.h5')"
   ]
  },
  {
   "cell_type": "code",
   "execution_count": null,
   "metadata": {},
   "outputs": [],
   "source": []
  }
 ],
 "metadata": {
  "kernelspec": {
   "display_name": "Python 3",
   "language": "python",
   "name": "python3"
  },
  "language_info": {
   "codemirror_mode": {
    "name": "ipython",
    "version": 3
   },
   "file_extension": ".py",
   "mimetype": "text/x-python",
   "name": "python",
   "nbconvert_exporter": "python",
   "pygments_lexer": "ipython3",
   "version": "3.6.7"
  }
 },
 "nbformat": 4,
 "nbformat_minor": 2
}
